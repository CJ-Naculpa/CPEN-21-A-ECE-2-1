{
  "nbformat": 4,
  "nbformat_minor": 0,
  "metadata": {
    "colab": {
      "name": " Final Exam.ipynb",
      "provenance": [],
      "authorship_tag": "ABX9TyPoAoLKBj6xL59gOGZk7yxz",
      "include_colab_link": true
    },
    "kernelspec": {
      "name": "python3",
      "display_name": "Python 3"
    },
    "language_info": {
      "name": "python"
    }
  },
  "cells": [
    {
      "cell_type": "markdown",
      "metadata": {
        "id": "view-in-github",
        "colab_type": "text"
      },
      "source": [
        "<a href=\"https://colab.research.google.com/github/CJ-Naculpa/CPEN-21-A-ECE-2-1/blob/main/Final_Exam.ipynb\" target=\"_parent\"><img src=\"https://colab.research.google.com/assets/colab-badge.svg\" alt=\"Open In Colab\"/></a>"
      ]
    },
    {
      "cell_type": "markdown",
      "source": [
        "##Create a Python program that will produce an output of sum of 10 numbers less than 5 using FOR LOOP statement."
      ],
      "metadata": {
        "id": "CrpXWdZpzKhB"
      }
    },
    {
      "cell_type": "code",
      "source": [
        "sum=0\n",
        "print(\"The ten numbers\")\n",
        "for x in range(1,11):\n",
        "  print(x,end=' ')\n",
        "  sum=sum+x\n",
        "print(\"total to\",sum)\n",
        "print(\"The sum of 10 numbers less than 5\")\n",
        "print(sum-5)\n",
        " "
      ],
      "metadata": {
        "colab": {
          "base_uri": "https://localhost:8080/"
        },
        "id": "OO7UHIiHzZie",
        "outputId": "87c2cd96-792b-48d8-be02-35ed55c2b2a5"
      },
      "execution_count": 25,
      "outputs": [
        {
          "output_type": "stream",
          "name": "stdout",
          "text": [
            "The ten numbers\n",
            "1 2 3 4 5 6 7 8 9 10 total to 55\n",
            "The sum of 10 numbers less than 5\n",
            "50\n"
          ]
        }
      ]
    },
    {
      "cell_type": "markdown",
      "source": [
        "##Create a Python program that will produce accept five numbers and determine the sum of first and last number among the five numbers entered using WHILE LOOP"
      ],
      "metadata": {
        "id": "26hHDGFu20nm"
      }
    },
    {
      "cell_type": "code",
      "source": [
        "i=1\n",
        "print(\"The 5 numbers\")\n",
        "while i<6:\n",
        "  print(i,end=' ')\n",
        "  i=i+1 \n",
        "print()\n",
        "print(\"sum of the first and last number\")\n",
        "n=int(input(\"First Number is equal to=\"))\n",
        "m=int(input(\"Last number is equal to=\"))\n",
        "total=n+m\n",
        "print(total)\n"
      ],
      "metadata": {
        "colab": {
          "base_uri": "https://localhost:8080/"
        },
        "id": "9kn0YOkK3O6C",
        "outputId": "21063ffb-3e1f-4438-8e35-812902bf936a"
      },
      "execution_count": 52,
      "outputs": [
        {
          "output_type": "stream",
          "name": "stdout",
          "text": [
            "The 5 numbers\n",
            "1 2 3 4 5 \n",
            "sum of the first and last number\n",
            "First Number is equal to=1\n",
            "Last number is equal to=5\n",
            "6\n"
          ]
        }
      ]
    },
    {
      "cell_type": "markdown",
      "source": [
        "##Create a Python program to calculate student grades. It accepts a numerical grade as input and it will display the character grade as output based on the given scale: (Use Nested-IF-Else statement)"
      ],
      "metadata": {
        "id": "nUNd6cET95O3"
      }
    },
    {
      "cell_type": "code",
      "source": [
        "for i in range(0,100):\n",
        "  grade=float(input(\"Grade Percentage:\"))\n",
        "  if grade >=90:\n",
        "    print(\"A\")\n",
        "  elif 79<= grade<90:\n",
        "    print(\"B\")\n",
        "  elif 70<= grade<79:\n",
        "    print(\"C\")\n",
        "  elif 60<= grade<69:\n",
        "    print(\"D\")\n",
        "  else:\n",
        "    print(\"F\")\n",
        "\n"
      ],
      "metadata": {
        "colab": {
          "base_uri": "https://localhost:8080/"
        },
        "id": "bu5cyI0N9_wB",
        "outputId": "e3bb5353-a555-4d53-d51a-f5af1a6af9b2"
      },
      "execution_count": null,
      "outputs": [
        {
          "output_type": "stream",
          "name": "stdout",
          "text": [
            "Grade Percentage:89\n",
            "B\n",
            "Grade Percentage:70\n",
            "C\n",
            "Grade Percentage:56\n",
            "F\n",
            "Grade Percentage:92\n",
            "A\n",
            "Grade Percentage:87\n",
            "B\n",
            "Grade Percentage:84\n",
            "B\n"
          ]
        }
      ]
    }
  ]
}