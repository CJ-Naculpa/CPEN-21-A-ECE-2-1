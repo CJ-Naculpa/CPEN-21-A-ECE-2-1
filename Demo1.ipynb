{
  "nbformat": 4,
  "nbformat_minor": 0,
  "metadata": {
    "colab": {
      "name": "Demo1.ipynb",
      "provenance": [],
      "authorship_tag": "ABX9TyNuwE+hHu6nZIKBxsPMvVSX",
      "include_colab_link": true
    },
    "kernelspec": {
      "name": "python3",
      "display_name": "Python 3"
    },
    "language_info": {
      "name": "python"
    }
  },
  "cells": [
    {
      "cell_type": "markdown",
      "metadata": {
        "id": "view-in-github",
        "colab_type": "text"
      },
      "source": [
        "<a href=\"https://colab.research.google.com/github/CJ-Naculpa/CPEN-21-A-ECE-2-1/blob/main/Demo1.ipynb\" target=\"_parent\"><img src=\"https://colab.research.google.com/assets/colab-badge.svg\" alt=\"Open In Colab\"/></a>"
      ]
    },
    {
      "cell_type": "markdown",
      "metadata": {
        "id": "JNKzeppNrerg"
      },
      "source": [
        "##Intro to Python Programming"
      ]
    },
    {
      "cell_type": "code",
      "metadata": {
        "colab": {
          "base_uri": "https://localhost:8080/"
        },
        "id": "cWRL5WyirvHX",
        "outputId": "cae397be-7544-4799-88a4-cec772ab5942"
      },
      "source": [
        "#Phython Indention\n",
        "if 5>2:\n",
        "  print(\"Five is greater than two\")"
      ],
      "execution_count": 1,
      "outputs": [
        {
          "output_type": "stream",
          "name": "stdout",
          "text": [
            "Five is greater than two\n"
          ]
        }
      ]
    },
    {
      "cell_type": "markdown",
      "metadata": {
        "id": "IrTIsEL-tt4m"
      },
      "source": [
        "#Phyton Variable"
      ]
    },
    {
      "cell_type": "code",
      "metadata": {
        "colab": {
          "base_uri": "https://localhost:8080/"
        },
        "id": "kIVY9T77tyL4",
        "outputId": "e134445f-e3c4-4ca7-9010-a090b6afc439"
      },
      "source": [
        "x = 1\n",
        "a, b = 0 , 1\n",
        "a,b,c= \"zero\",\"one\",\"two\"\n",
        "print(x)\n",
        "print(a)\n",
        "print(b)\n",
        "print(c)"
      ],
      "execution_count": 8,
      "outputs": [
        {
          "output_type": "stream",
          "name": "stdout",
          "text": [
            "1\n",
            "zero\n",
            "one\n",
            "two\n"
          ]
        }
      ]
    },
    {
      "cell_type": "code",
      "metadata": {
        "colab": {
          "base_uri": "https://localhost:8080/"
        },
        "id": "Vatqs38Vufzk",
        "outputId": "e71e492b-47d3-4ba7-d666-6c78658a6581"
      },
      "source": [
        "d = \"Sally\" #This is a string\n",
        "print(d)\n",
        "e = \"john\"\n",
        "print(e)"
      ],
      "execution_count": 6,
      "outputs": [
        {
          "output_type": "stream",
          "name": "stdout",
          "text": [
            "Sally\n",
            "john\n"
          ]
        }
      ]
    },
    {
      "cell_type": "code",
      "metadata": {
        "colab": {
          "base_uri": "https://localhost:8080/"
        },
        "id": "zLHnxNdMvW9d",
        "outputId": "eb8a4105-08a1-4b62-df3b-adf68ca3ef5b"
      },
      "source": [
        "print(type(d)) #this is function\n",
        "print(type(x))"
      ],
      "execution_count": 7,
      "outputs": [
        {
          "output_type": "stream",
          "name": "stdout",
          "text": [
            "<class 'str'>\n",
            "<class 'int'>\n"
          ]
        }
      ]
    },
    {
      "cell_type": "markdown",
      "metadata": {
        "id": "97WNXxGQuzIc"
      },
      "source": [
        "#Casting"
      ]
    },
    {
      "cell_type": "code",
      "metadata": {
        "id": "J05Nb-GSvA5q"
      },
      "source": [
        "f = float(4)\n",
        "print (f)\n",
        "g = int()"
      ],
      "execution_count": null,
      "outputs": []
    },
    {
      "cell_type": "markdown",
      "metadata": {
        "id": "7vxlUIVgwL0b"
      },
      "source": [
        "##Multiple VAriables with One Value"
      ]
    },
    {
      "cell_type": "code",
      "metadata": {
        "colab": {
          "base_uri": "https://localhost:8080/"
        },
        "id": "h-RYpAafwK_4",
        "outputId": "d7b47ccf-d53b-48d3-e8d3-adae4564c3b8"
      },
      "source": [
        "x = y = z = \"four\"\n",
        "print(x)\n",
        "print(y)\n",
        "print(z)"
      ],
      "execution_count": 9,
      "outputs": [
        {
          "output_type": "stream",
          "name": "stdout",
          "text": [
            "four\n",
            "four\n",
            "four\n"
          ]
        }
      ]
    },
    {
      "cell_type": "code",
      "metadata": {
        "colab": {
          "base_uri": "https://localhost:8080/"
        },
        "id": "xhBMSp7_wo_X",
        "outputId": "ccb3f8f0-99ab-4c51-e5df-34a9abdbd224"
      },
      "source": [
        "x = \"enjoying\"\n",
        "print(\"Python Programming is\" \" \" + x)"
      ],
      "execution_count": 10,
      "outputs": [
        {
          "output_type": "stream",
          "name": "stdout",
          "text": [
            "Python Programming is enjoying\n"
          ]
        }
      ]
    },
    {
      "cell_type": "markdown",
      "metadata": {
        "id": "ok-JKOKJxJKm"
      },
      "source": [
        "##Operations in Python"
      ]
    },
    {
      "cell_type": "code",
      "metadata": {
        "colab": {
          "base_uri": "https://localhost:8080/"
        },
        "id": "ztbpxbmpxOv3",
        "outputId": "4f5cb756-acd4-4a8b-865f-d7dc0a91c8c8"
      },
      "source": [
        "x = 5\n",
        "y = 7 \n",
        "x += y #This is the same as x = x + y\n",
        "print(x)\n",
        "print(x*y)\n"
      ],
      "execution_count": 17,
      "outputs": [
        {
          "output_type": "stream",
          "name": "stdout",
          "text": [
            "12\n",
            "84\n"
          ]
        }
      ]
    },
    {
      "cell_type": "code",
      "metadata": {
        "colab": {
          "base_uri": "https://localhost:8080/"
        },
        "id": "CcOaFXAjzRSw",
        "outputId": "592e2051-5820-40bf-ea45-2c88e7bedb2e"
      },
      "source": [
        "x = 5\n",
        "y = 7\n",
        "\n",
        "not(x>y or y==x)"
      ],
      "execution_count": 24,
      "outputs": [
        {
          "output_type": "execute_result",
          "data": {
            "text/plain": [
              "True"
            ]
          },
          "metadata": {},
          "execution_count": 24
        }
      ]
    },
    {
      "cell_type": "code",
      "metadata": {
        "colab": {
          "base_uri": "https://localhost:8080/"
        },
        "id": "2h_xyvnb0IgK",
        "outputId": "d84fe04a-ebb4-41e2-ca56-8a6ffa500239"
      },
      "source": [
        "x is y "
      ],
      "execution_count": 25,
      "outputs": [
        {
          "output_type": "execute_result",
          "data": {
            "text/plain": [
              "False"
            ]
          },
          "metadata": {},
          "execution_count": 25
        }
      ]
    },
    {
      "cell_type": "code",
      "metadata": {
        "colab": {
          "base_uri": "https://localhost:8080/"
        },
        "id": "pz2zyIDJ0Mbp",
        "outputId": "b0641e46-3b9b-4f3a-f21a-82805269b29a"
      },
      "source": [
        "x is not y"
      ],
      "execution_count": 26,
      "outputs": [
        {
          "output_type": "execute_result",
          "data": {
            "text/plain": [
              "True"
            ]
          },
          "metadata": {},
          "execution_count": 26
        }
      ]
    }
  ]
}