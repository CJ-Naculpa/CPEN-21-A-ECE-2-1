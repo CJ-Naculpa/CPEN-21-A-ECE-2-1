{
  "nbformat": 4,
  "nbformat_minor": 0,
  "metadata": {
    "colab": {
      "name": "Expressions and Operations.ipynb",
      "provenance": [],
      "collapsed_sections": [],
      "authorship_tag": "ABX9TyPlQZRmfcjQwChJ2QsrnwCy",
      "include_colab_link": true
    },
    "kernelspec": {
      "name": "python3",
      "display_name": "Python 3"
    },
    "language_info": {
      "name": "python"
    }
  },
  "cells": [
    {
      "cell_type": "markdown",
      "metadata": {
        "id": "view-in-github",
        "colab_type": "text"
      },
      "source": [
        "<a href=\"https://colab.research.google.com/github/CJ-Naculpa/CPEN-21-A-ECE-2-1/blob/main/Expressions_and_Operations.ipynb\" target=\"_parent\"><img src=\"https://colab.research.google.com/assets/colab-badge.svg\" alt=\"Open In Colab\"/></a>"
      ]
    },
    {
      "cell_type": "markdown",
      "metadata": {
        "id": "tFclzHsw3sKd"
      },
      "source": [
        "##Boolean Operator"
      ]
    },
    {
      "cell_type": "code",
      "metadata": {
        "colab": {
          "base_uri": "https://localhost:8080/"
        },
        "id": "dKitQUAu3w0G",
        "outputId": "277beb80-6e08-4309-ca7c-c692efc08058"
      },
      "source": [
        "x = 1\n",
        "y = 2\n",
        "print(x>y)\n",
        "print(10>11)\n",
        "print(10==10)   #double equal means equality while single equal sign means value of variable\n",
        "print(10!=11)"
      ],
      "execution_count": 9,
      "outputs": [
        {
          "output_type": "stream",
          "name": "stdout",
          "text": [
            "False\n",
            "False\n",
            "True\n",
            "True\n"
          ]
        }
      ]
    },
    {
      "cell_type": "code",
      "metadata": {
        "colab": {
          "base_uri": "https://localhost:8080/"
        },
        "id": "TYaLiWF-4psh",
        "outputId": "33a82f0f-85e5-437b-9a57-111422d9a655"
      },
      "source": [
        "##using bool() function\n",
        "\n",
        "print(bool(\"Hello\"))\n",
        "print(bool(15))\n",
        "\n",
        "print(bool(True))\n",
        "print(bool(False))\n",
        "print(bool(None))\n",
        "print(bool(0))\n",
        "print(bool([]))"
      ],
      "execution_count": 10,
      "outputs": [
        {
          "output_type": "stream",
          "name": "stdout",
          "text": [
            "True\n",
            "True\n",
            "True\n",
            "False\n",
            "False\n",
            "False\n",
            "False\n"
          ]
        }
      ]
    },
    {
      "cell_type": "markdown",
      "metadata": {
        "id": "TUTYl1dj5Q7O"
      },
      "source": [
        "###Functions can return Boolean"
      ]
    },
    {
      "cell_type": "code",
      "metadata": {
        "colab": {
          "base_uri": "https://localhost:8080/"
        },
        "id": "fzicQNnp5WHw",
        "outputId": "d65946eb-205f-45c2-9bc9-0f2c460d81d8"
      },
      "source": [
        "def myFunction():return False\n",
        "print(myFunction())"
      ],
      "execution_count": 42,
      "outputs": [
        {
          "output_type": "stream",
          "name": "stdout",
          "text": [
            "False\n"
          ]
        }
      ]
    },
    {
      "cell_type": "code",
      "metadata": {
        "colab": {
          "base_uri": "https://localhost:8080/",
          "height": 129
        },
        "id": "R7NCd9u950xy",
        "outputId": "bda1a380-9e8e-435b-90ad-975bf0a3c479"
      },
      "source": [
        "def yourFunction():return False\n",
        "\n",
        "if yourFunction():\n",
        "  print(\"Yes\")\n",
        "else\n",
        "  print(\"No\")"
      ],
      "execution_count": 43,
      "outputs": [
        {
          "output_type": "error",
          "ename": "SyntaxError",
          "evalue": "ignored",
          "traceback": [
            "\u001b[0;36m  File \u001b[0;32m\"<ipython-input-43-b3561cb5954e>\"\u001b[0;36m, line \u001b[0;32m5\u001b[0m\n\u001b[0;31m    else\u001b[0m\n\u001b[0m        ^\u001b[0m\n\u001b[0;31mSyntaxError\u001b[0m\u001b[0;31m:\u001b[0m invalid syntax\n"
          ]
        }
      ]
    },
    {
      "cell_type": "markdown",
      "metadata": {
        "id": "d4wxaObA6Rol"
      },
      "source": [
        "###You Try!\n"
      ]
    },
    {
      "cell_type": "code",
      "metadata": {
        "colab": {
          "base_uri": "https://localhost:8080/"
        },
        "id": "pVkx_zT-6X2I",
        "outputId": "3ad659ca-afc6-4eaf-d4a3-4dd61d7102c8"
      },
      "source": [
        "print(10>9)\n",
        "\n",
        "a = 6\n",
        "b = 7\n",
        "print(a==b)\n",
        "print(a!=a)"
      ],
      "execution_count": 22,
      "outputs": [
        {
          "output_type": "stream",
          "name": "stdout",
          "text": [
            "True\n",
            "False\n",
            "False\n"
          ]
        }
      ]
    },
    {
      "cell_type": "markdown",
      "metadata": {
        "id": "A7zEj0Rv8Tcb"
      },
      "source": [
        "##Arithmetic Operators"
      ]
    },
    {
      "cell_type": "code",
      "metadata": {
        "colab": {
          "base_uri": "https://localhost:8080/"
        },
        "id": "yOTk308z8Wyk",
        "outputId": "3a728014-3786-4e5b-cd90-349b18bc79fc"
      },
      "source": [
        "print(10+5)\n",
        "print(10-5)\n",
        "print(10*5)\n",
        "print(10/5) \n",
        "print(10%5) #modulo division remainder\n",
        "print(10//5) #floor division\n",
        "print(10//3) #floor division (kinukuha niya yung remainder)\n",
        "print(10%3) #3 x 3 = 9 + 1"
      ],
      "execution_count": 30,
      "outputs": [
        {
          "output_type": "stream",
          "name": "stdout",
          "text": [
            "15\n",
            "5\n",
            "50\n",
            "2.0\n",
            "0\n",
            "2\n",
            "3\n",
            "1\n"
          ]
        }
      ]
    },
    {
      "cell_type": "markdown",
      "metadata": {
        "id": "DtIxxU9_9aQr"
      },
      "source": [
        "##Bitwise Operators"
      ]
    },
    {
      "cell_type": "code",
      "metadata": {
        "colab": {
          "base_uri": "https://localhost:8080/"
        },
        "id": "xFIjkUJi9etJ",
        "outputId": "c667a113-81eb-409e-f5ba-0d948718d654"
      },
      "source": [
        "a = 60  #decimal = 60  bit = 0011 1100\n",
        "b = 13  #decimal = 13  bit = 0000 1101\n",
        "                            #mostsb(yung nasa unahan na zero)  (least significant bit=nasa hulihan )\n",
        "print(a&b)   \n",
        "print(a|b)\n",
        "print(a^b)\n",
        "print(-a)\n",
        "print(a<<1) #0011 1100 = 0111 1000 ( malilipat sa likuran yung zero or value at mamumove yung binary)\n",
        "print(a<<2) #0111 1000 = 1111 0000\n",
        "print(b>>1) #0011 1100 = 1 0000 0110\n",
        "print(b>>2) #0000 1100 = 0000 0011"
      ],
      "execution_count": 41,
      "outputs": [
        {
          "output_type": "stream",
          "name": "stdout",
          "text": [
            "12\n",
            "61\n",
            "49\n",
            "-60\n",
            "120\n",
            "240\n",
            "6\n",
            "3\n"
          ]
        }
      ]
    },
    {
      "cell_type": "markdown",
      "metadata": {
        "id": "E1dYYwsiB4s9"
      },
      "source": [
        "##Python Assignment Operators"
      ]
    },
    {
      "cell_type": "code",
      "metadata": {
        "colab": {
          "base_uri": "https://localhost:8080/"
        },
        "id": "87JgRS2LB8uH",
        "outputId": "7c3f91a9-47cc-43dc-d634-8bf8759dcbeb"
      },
      "source": [
        "a+=3 # Same As a = a + 3\n",
        "     # Same As a = 60 + 3, a = 63\n",
        "print(a)"
      ],
      "execution_count": 44,
      "outputs": [
        {
          "output_type": "stream",
          "name": "stdout",
          "text": [
            "63\n"
          ]
        }
      ]
    },
    {
      "cell_type": "markdown",
      "metadata": {
        "id": "y5-zm2RsCVzd"
      },
      "source": [
        "##Logical Operators"
      ]
    },
    {
      "cell_type": "code",
      "metadata": {
        "colab": {
          "base_uri": "https://localhost:8080/"
        },
        "id": "OeF6toWNCZNV",
        "outputId": "f72d30b2-7b48-4342-f5b7-0cc165405c6a"
      },
      "source": [
        "#and logical operator\n",
        "a = True \n",
        "b = False\n",
        "print(a and b)\n",
        "print(not(a and b))\n",
        "print(a or b)\n",
        "print(not(a or b))"
      ],
      "execution_count": 51,
      "outputs": [
        {
          "output_type": "stream",
          "name": "stdout",
          "text": [
            "False\n",
            "True\n",
            "True\n",
            "False\n"
          ]
        }
      ]
    },
    {
      "cell_type": "code",
      "metadata": {
        "colab": {
          "base_uri": "https://localhost:8080/"
        },
        "id": "l9v3Zlt1DH6L",
        "outputId": "d47aaa34-0ff3-4c01-a86c-0e63e973e614"
      },
      "source": [
        "print(a is b)\n",
        "print(a is not b)"
      ],
      "execution_count": 54,
      "outputs": [
        {
          "output_type": "stream",
          "name": "stdout",
          "text": [
            "False\n",
            "True\n"
          ]
        }
      ]
    }
  ]
}