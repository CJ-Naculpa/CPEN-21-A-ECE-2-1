{
  "nbformat": 4,
  "nbformat_minor": 0,
  "metadata": {
    "colab": {
      "name": "Lab1.ipynb",
      "provenance": [],
      "authorship_tag": "ABX9TyNlmEEsuBiIvwdcfFoam0eG",
      "include_colab_link": true
    },
    "kernelspec": {
      "name": "python3",
      "display_name": "Python 3"
    },
    "language_info": {
      "name": "python"
    }
  },
  "cells": [
    {
      "cell_type": "markdown",
      "metadata": {
        "id": "view-in-github",
        "colab_type": "text"
      },
      "source": [
        "<a href=\"https://colab.research.google.com/github/CJ-Naculpa/CPEN-21-A-ECE-2-1/blob/main/Lab1.ipynb\" target=\"_parent\"><img src=\"https://colab.research.google.com/assets/colab-badge.svg\" alt=\"Open In Colab\"/></a>"
      ]
    },
    {
      "cell_type": "markdown",
      "metadata": {
        "id": "unj1RSKSpMpS"
      },
      "source": [
        "#Laboratory 1"
      ]
    },
    {
      "cell_type": "code",
      "metadata": {
        "colab": {
          "base_uri": "https://localhost:8080/"
        },
        "id": "9syv7ieYpU-h",
        "outputId": "3cda9a55-da52-4870-cc17-18208521a26e"
      },
      "source": [
        "a = \"Welcome to Phyton Programming\"\n",
        "print(a)"
      ],
      "execution_count": 5,
      "outputs": [
        {
          "output_type": "stream",
          "name": "stdout",
          "text": [
            "Welcome to Phyton Programming\n"
          ]
        }
      ]
    },
    {
      "cell_type": "markdown",
      "metadata": {
        "id": "uC4ckbm0u4IX"
      },
      "source": [
        "###Personal Details"
      ]
    },
    {
      "cell_type": "code",
      "metadata": {
        "colab": {
          "base_uri": "https://localhost:8080/"
        },
        "id": "ztZHsNAwvHa8",
        "outputId": "5edf4767-cf95-4942-8a6f-b51c5040f7f7"
      },
      "source": [
        "name = \"Carl Joshua Naculpa\"\n",
        "age = 20\n",
        "address = \"Paliparan 3,Dasmariñas,Cavite\"\n",
        "print(\"Name: {}\\nAge: {}\\nAddress: {}\" .format(name, age, address))"
      ],
      "execution_count": 7,
      "outputs": [
        {
          "output_type": "stream",
          "name": "stdout",
          "text": [
            "Name: Carl Joshua Naculpa\n",
            "Age: 20\n",
            "Address: Paliparan 3,Dasmariñas,Cavite\n"
          ]
        }
      ]
    }
  ]
}