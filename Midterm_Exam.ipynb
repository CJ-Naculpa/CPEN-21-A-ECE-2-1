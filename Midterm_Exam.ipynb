{
  "nbformat": 4,
  "nbformat_minor": 0,
  "metadata": {
    "colab": {
      "name": "Midterm Exam.ipynb",
      "provenance": [],
      "authorship_tag": "ABX9TyPigPOFfyNu9N5sBG+NyhlX",
      "include_colab_link": true
    },
    "kernelspec": {
      "name": "python3",
      "display_name": "Python 3"
    },
    "language_info": {
      "name": "python"
    }
  },
  "cells": [
    {
      "cell_type": "markdown",
      "metadata": {
        "id": "view-in-github",
        "colab_type": "text"
      },
      "source": [
        "<a href=\"https://colab.research.google.com/github/CJ-Naculpa/CPEN-21-A-ECE-2-1/blob/main/Midterm_Exam.ipynb\" target=\"_parent\"><img src=\"https://colab.research.google.com/assets/colab-badge.svg\" alt=\"Open In Colab\"/></a>"
      ]
    },
    {
      "cell_type": "markdown",
      "metadata": {
        "id": "CnD2_tBdIwLB"
      },
      "source": [
        "##Personal Information"
      ]
    },
    {
      "cell_type": "code",
      "metadata": {
        "colab": {
          "base_uri": "https://localhost:8080/"
        },
        "id": "NVUmwf7XI3Pc",
        "outputId": "176e7ea1-921c-4c61-89a1-091826efa5a0"
      },
      "source": [
        "name = \"Carl Joshua Gamo Naculpa\"\n",
        "student_number = 202011693\n",
        "age = 20\n",
        "birthday = \"July 1,2001\"\n",
        "address = \"Paliparan 3,Dasmariñas,Cavite\"\n",
        "course = \"Bachelor of Science in Electrical and Computer Engineering\"\n",
        "last_sem_GWA = 1.98\n",
        "\n",
        "print(\"Name: {}\\nStudent_number: {}\\nAge: {}\\nBirthday: {}\\nAddress: {}\\nCourse: {}\\nLast_Sem_GWA: {}\" .format(name, student_number, age, birthday, address, course, last_sem_GWA))"
      ],
      "execution_count": 1,
      "outputs": [
        {
          "output_type": "stream",
          "name": "stdout",
          "text": [
            "Name: Carl Joshua Gamo Naculpa\n",
            "Student_number: 202011693\n",
            "Age: 20\n",
            "Birthday: July 1,2001\n",
            "Address: Paliparan 3,Dasmariñas,Cavite\n",
            "Course: Bachelor of Science in Electrical and Computer Engineering\n",
            "Last_Sem_GWA: 1.98\n"
          ]
        }
      ]
    },
    {
      "cell_type": "markdown",
      "metadata": {
        "id": "0CIOanagJB8R"
      },
      "source": [
        "Problem Statement 2"
      ]
    },
    {
      "cell_type": "code",
      "metadata": {
        "colab": {
          "base_uri": "https://localhost:8080/"
        },
        "id": "998ANXzfJDM5",
        "outputId": "465c220c-1155-485e-bb6f-15a702abcea6"
      },
      "source": [
        "n = 4\n",
        "answ=\"Y\"\n",
        "##a\n",
        "print(2<n & n<6)\n",
        "##b\n",
        "print(2<n | n==6)\n",
        "##c\n",
        "print(not(2<n | n==6))\n",
        "##d\n",
        "print(not(n<6))\n",
        "##e\n",
        "print(answ==\"Y\" or answ==\"y\")\n",
        "##f\n",
        "print(answ==\"Y\" and answ==\"y\")\n",
        "##g\n",
        "print(not(answ==\"y\"))\n",
        "##h\n",
        "print(2<n & n==5+1 or answ==\"No\")\n",
        "##i\n",
        "print(n==2 & n==7 or answ==\"Y\")\n",
        "##j\n",
        "print(n==2 & (n==7 or answ==\"Y\"))"
      ],
      "execution_count": 3,
      "outputs": [
        {
          "output_type": "stream",
          "name": "stdout",
          "text": [
            "True\n",
            "False\n",
            "True\n",
            "False\n",
            "True\n",
            "False\n",
            "True\n",
            "False\n",
            "True\n",
            "False\n"
          ]
        }
      ]
    },
    {
      "cell_type": "markdown",
      "metadata": {
        "id": "OFxvbN0lJGBa"
      },
      "source": [
        "Problem Statement 3"
      ]
    },
    {
      "cell_type": "code",
      "metadata": {
        "colab": {
          "base_uri": "https://localhost:8080/"
        },
        "id": "DfBbeKmvJIaM",
        "outputId": "3f9a685f-6755-4872-e20d-054ec75358b2"
      },
      "source": [
        "x = 2\n",
        "y = -3\n",
        "w = 7\n",
        "z = -10\n",
        "print(x/y)\n",
        "print(w/y/x)\n",
        "print(z/y%x)\n",
        "print(x%-y*w)\n",
        "print(x%y)\n",
        "print(z%w-y/x*5+5)\n",
        "print(9-x%(2+y))\n",
        "print(z/w)\n",
        "print((2+y)**2)\n",
        "print(w/x*2)"
      ],
      "execution_count": 2,
      "outputs": [
        {
          "output_type": "stream",
          "name": "stdout",
          "text": [
            "-0.6666666666666666\n",
            "-1.1666666666666667\n",
            "1.3333333333333335\n",
            "14\n",
            "-1\n",
            "16.5\n",
            "9\n",
            "-1.4285714285714286\n",
            "1\n",
            "7.0\n"
          ]
        }
      ]
    }
  ]
}